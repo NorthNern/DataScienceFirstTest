{
 "cells": [
  {
   "cell_type": "markdown",
   "id": "f6771485-0db3-47ed-b05a-101426b4acf4",
   "metadata": {},
   "source": [
    "# Data Science Tools and Ecosystem"
   ]
  },
  {
   "cell_type": "markdown",
   "id": "f876607d-a918-4f3f-bb49-5a6d65a1fc1b",
   "metadata": {},
   "source": [
    "In this notebook, Data Science Tools and Ecosystem are summarized"
   ]
  },
  {
   "cell_type": "markdown",
   "id": "41879078-656b-4b9b-88e8-c5e4abada21e",
   "metadata": {},
   "source": [
    "**Objectives:**\n",
    "* List popular languages for Data Science\n",
    "* List commonly used libraries by Data Scientists\n",
    "* Create a markdown table with other Data Science Tools\n",
    "* Perform simple arithmetic expressions"
   ]
  },
  {
   "cell_type": "markdown",
   "id": "aa6394a2-c9a6-4651-ab84-1c4e778efc6a",
   "metadata": {},
   "source": [
    "Some of the popular languages that Data Scientists use are:\n",
    "1. Python\n",
    "2. R\n",
    "3. Javascript\n",
    "4. Scala"
   ]
  },
  {
   "cell_type": "markdown",
   "id": "d9f39243-dc4f-4af9-a438-641d858aee09",
   "metadata": {},
   "source": [
    "Some of the commonly used libraries used by Data Scientists include:\n",
    "1. Numpy\n",
    "2. SciPy\n",
    "3. Pandas"
   ]
  },
  {
   "cell_type": "markdown",
   "id": "7ffb47ed-1ed5-4111-9c6f-0f4212b37412",
   "metadata": {},
   "source": [
    "|Data Science Tools|\n",
    "|-|\n",
    "|VS Code|\n",
    "|Git|\n",
    "|TensorFlow|\n"
   ]
  },
  {
   "cell_type": "markdown",
   "id": "79ef8ad0-1beb-45cb-9353-c069dae3a0a4",
   "metadata": {},
   "source": [
    "### Below are a few examples of evaluating arithmetic expressions in Python"
   ]
  },
  {
   "cell_type": "code",
   "execution_count": 6,
   "id": "08dd6207-d987-4eef-97f7-ccbd1c592faf",
   "metadata": {},
   "outputs": [
    {
     "data": {
      "text/plain": [
       "17"
      ]
     },
     "execution_count": 6,
     "metadata": {},
     "output_type": "execute_result"
    }
   ],
   "source": [
    "# This is a simple arithmetic expression to multiply then add integers\n",
    "(3*4)+5"
   ]
  },
  {
   "cell_type": "code",
   "execution_count": 7,
   "id": "83e22c32-3889-4e5a-b3d3-04633c142bc7",
   "metadata": {},
   "outputs": [
    {
     "data": {
      "text/plain": [
       "3.3333333333333335"
      ]
     },
     "execution_count": 7,
     "metadata": {},
     "output_type": "execute_result"
    }
   ],
   "source": [
    "#This will convert 200 minutes to hours by dividing by 60\n",
    "200 /60"
   ]
  },
  {
   "cell_type": "markdown",
   "id": "cd60a086-b8e9-42f8-b7e8-83cd9503ccfb",
   "metadata": {},
   "source": [
    "## Author\n",
    "Adam M"
   ]
  },
  {
   "cell_type": "code",
   "execution_count": null,
   "id": "1d6c6f7a-94a7-4e6e-a2fd-5ac4cc93d947",
   "metadata": {},
   "outputs": [],
   "source": []
  }
 ],
 "metadata": {
  "kernelspec": {
   "display_name": "Python 3 (ipykernel)",
   "language": "python",
   "name": "python3"
  },
  "language_info": {
   "codemirror_mode": {
    "name": "ipython",
    "version": 3
   },
   "file_extension": ".py",
   "mimetype": "text/x-python",
   "name": "python",
   "nbconvert_exporter": "python",
   "pygments_lexer": "ipython3",
   "version": "3.9.13"
  }
 },
 "nbformat": 4,
 "nbformat_minor": 5
}
